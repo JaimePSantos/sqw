{
 "cells": [
  {
   "cell_type": "code",
   "execution_count": 1,
   "id": "8593f6ea-264d-44ee-bec1-e95c6085fa25",
   "metadata": {},
   "outputs": [],
   "source": [
    "import networkx as nx\n",
    "from sqw.tesselations import even_cycle_two_tesselation, square_grid_tesselation\n",
    "from sqw.plots import tesselation_plot, square_grid_plot\n",
    "from sqw.states import uniform_initial_state, amp2prob\n",
    "from sqw.statistics import states2std\n",
    "import matplotlib.pyplot as plt\n",
    "import numpy as np\n",
    "from sqw.experiments_expanded import running\n",
    "from sqw.plots import (final_distribution_plot, \n",
    "                       mean_plot, \n",
    "                       std_plot, \n",
    "                       ipr_plot, \n",
    "                       survival_plot)\n",
    "import matplotlib.pyplot as plt\n",
    "import time\n",
    "import warnings\n",
    "warnings.filterwarnings(\"ignore\", category=DeprecationWarning) \n",
    "warnings.filterwarnings(\"ignore\", category=UserWarning) "
   ]
  },
  {
   "cell_type": "code",
   "execution_count": 19,
   "id": "a1f981c6-b5c2-4329-80c5-dc09d1b1b19e",
   "metadata": {},
   "outputs": [],
   "source": [
    "colormaps = [\n",
    "    # Perceptually Uniform Sequential\n",
    "    'viridis', 'plasma', 'inferno', 'magma',\n",
    "    \n",
    "    # Sequential\n",
    "    'Blues', 'BuGn', 'BuPu', 'GnBu', 'Greens', 'Greys', \n",
    "    'Oranges', 'Purples', 'Reds', 'YlGn', 'YlGnBu', \n",
    "    'YlOrBr', 'YlOrRd',\n",
    "    \n",
    "    # Diverging\n",
    "    'PiYG', 'PRGn', 'BrBG', 'PuOr', 'RdGy', \n",
    "    'RdBu', 'RdYlBu', 'RdYlGn', 'Spectral',\n",
    "    \n",
    "    # Cyclic\n",
    "    'twilight', 'twilight_shifted', 'hsv',\n",
    "    \n",
    "    # Qualitative\n",
    "    'Accent', 'Dark2', 'Paired', 'Pastel1', 'Pastel2', \n",
    "    'Set1', 'Set2', 'Set3', 'tab10', 'tab20', 'tab20b', 'tab20c'\n",
    "]\n",
    "\n"
   ]
  },
  {
   "cell_type": "code",
   "execution_count": 55,
   "id": "0878011f-c61d-4b7b-ae69-cebd3447be49",
   "metadata": {},
   "outputs": [],
   "source": [
    "N = 100\n",
    "steps = 20\n",
    "G = nx.cycle_graph(N)\n",
    "\n",
    "# Random edge weights\n",
    "for u,v in G.edges():\n",
    "    G.add_edge(u,v,weight = 0.4*np.random.random_sample())\n",
    "    # G.add_edge(u,v,weight = 1.0)\n",
    "\n",
    "    # G.add_edge(u,v,weight = 0.5*np.sin(u+v))\n",
    "    # G.add_edge(u,v,weight = 1.0)\n",
    "\n",
    "\n",
    "# Random self-loops weights\n",
    "for u in G.nodes():\n",
    "    # G.add_edge(u,u,weight = 1.0*np.random.random_sample())\n",
    "    G.add_edge(u,u,weight = 1.0)\n",
    "\n",
    "\n",
    "T = even_cycle_two_tesselation(N)\n",
    "angles = [[2*np.pi, 2*np.pi]] * steps\n",
    "\n",
    "# angles = [[np.pi/3, np.pi/3]] * steps\n",
    "tesselation_order = [[0,1] for x in range(steps)]\n",
    "initial_state = uniform_initial_state(N, nodes = [N//2, N//2+1])\n",
    "\n",
    "states_adj = running(G, T, steps, \n",
    "                 initial_state, \n",
    "                 angles = angles, \n",
    "                 tesselation_order = tesselation_order,\n",
    "                 matrix_representation='adjacency')\n",
    "\n",
    "final_dist_adj = [amp2prob(a) for a in states_adj]\n",
    "\n",
    "states_lap = running(G, T, steps, \n",
    "                 initial_state, \n",
    "                 angles = angles, \n",
    "                 tesselation_order = tesselation_order,\n",
    "                 matrix_representation='laplacian')\n",
    "\n",
    "final_dist_lap = [amp2prob(a) for a in states_lap]"
   ]
  },
  {
   "cell_type": "markdown",
   "id": "7b18ad40-f7b6-4a3b-ac31-4aad0290fd01",
   "metadata": {},
   "source": [
    "##### 1 - Dynamic + Heatmap"
   ]
  },
  {
   "cell_type": "code",
   "execution_count": 56,
   "id": "742a5cad-d6a5-4423-801c-cd8e58e46cf1",
   "metadata": {},
   "outputs": [
    {
     "data": {
      "image/png": "[encoded data removed]",
      "text/plain": [
       "<Figure size 640x480 with 2 Axes>"
      ]
     },
     "metadata": {},
     "output_type": "display_data"
    }
   ],
   "source": [
    "x = np.arange(-N//2, N//2, 1)\n",
    "y = np.arange(0, steps, 1)\n",
    "X, Y = np.meshgrid(x, y)\n",
    "\n",
    "fig, ax = plt.subplots()\n",
    "\n",
    "im = ax.imshow(final_dist_adj,interpolation='None',cmap=colormaps[3], extent = [-N//2, N//2, steps, 0])\n",
    "\n",
    "ratio = 0.5\n",
    "x_left, x_right = ax.get_xlim()\n",
    "y_low, y_high = ax.get_ylim()\n",
    "ax.set_aspect(abs((x_right-x_left)/(y_low-y_high))*ratio)\n",
    "ax.set_xlabel('x',fontsize = 14)\n",
    "ax.set_ylabel('steps',fontsize = 14)\n",
    "ax.tick_params(axis='both', which='major', labelsize=11)\n",
    "\n",
    "ax.set_xlim([-30,30])\n",
    "\n",
    "\n",
    "ax.set_yticks(np.arange(0, steps+1, 10))\n",
    "ax.set_xticks(np.arange(-30, 31, 10))\n",
    "\n",
    "cbar = fig.colorbar(im,fraction=0.035, pad=0.04)\n",
    "cbar.set_label('Probability', rotation=270,labelpad=20,fontsize = 14)\n",
    "\n",
    "\n",
    "# plt.savefig(f'images/sqw_N{N}_t{steps}_thetapi3-pi3_init0.png',bbox_inches='tight',dpi=300)\n",
    "plt.show()"
   ]
  },
  {
   "cell_type": "code",
   "execution_count": null,
   "id": "e593ee1f-92d4-44a4-9b6d-d7dfc3c1108b",
   "metadata": {},
   "outputs": [],
   "source": []
  }
 ],
 "metadata": {
  "kernelspec": {
   "display_name": "Python 3 (ipykernel)",
   "language": "python",
   "name": "python3"
  },
  "language_info": {
   "codemirror_mode": {
    "name": "ipython",
    "version": 3
   },
   "file_extension": ".py",
   "mimetype": "text/x-python",
   "name": "python",
   "nbconvert_exporter": "python",
   "pygments_lexer": "ipython3",
   "version": "3.10.13"
  }
 },
 "nbformat": 4,
 "nbformat_minor": 5
}
