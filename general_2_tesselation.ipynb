{
 "cells": [
  {
   "cell_type": "markdown",
   "id": "5490b150-29a7-4a69-a588-3ae5d30dbf09",
   "metadata": {},
   "source": [
    "##### PAPER"
   ]
  },
  {
   "cell_type": "code",
   "execution_count": 1,
   "id": "18782421-ef5f-422f-ade8-f2d517fbd2c7",
   "metadata": {},
   "outputs": [],
   "source": [
    "from random import choice,randint\n",
    "import networkx as nx"
   ]
  },
  {
   "cell_type": "code",
   "execution_count": 2,
   "id": "07c0b210-640a-42df-b1d8-a3bfc9d6d348",
   "metadata": {},
   "outputs": [],
   "source": [
    "def properlyColored(G,u,D):\n",
    "    return len(G[u].values())==G.degree(u) and all(color in range(D) for\n",
    "                                                        color in G[u].values())"
   ]
  },
  {
   "cell_type": "code",
   "execution_count": 3,
   "id": "843e2397-1712-41a0-ac14-cd9faecd07e6",
   "metadata": {},
   "outputs": [],
   "source": [
    "def checkEdgeColoring(G,D):\n",
    "    return all(properlyColored(G,u,D) for u in G.nodes())"
   ]
  },
  {
   "cell_type": "code",
   "execution_count": 4,
   "id": "a4f1af2e-9faa-4122-bbf6-a5289b04cf73",
   "metadata": {},
   "outputs": [],
   "source": [
    "def conflictLevel(G,u): \n",
    "    return G.degree(u)-len(G[u].values())"
   ]
  },
  {
   "cell_type": "code",
   "execution_count": 5,
   "id": "b489c070-f1ae-4089-a062-40ec882b3b55",
   "metadata": {},
   "outputs": [],
   "source": [
    "def createConflictDictionary(G,D):\n",
    "    conflict_dictionary=dict([(i,set([])) for i in range(1,D)])\n",
    "    for u in G.nodes():\n",
    "        conflict_level_u=conflictLevel(G,u)\n",
    "        if conflict_level_u>0: conflict_dictionary[conflict_level_u].add(u)\n",
    "    return conflict_dictionary"
   ]
  },
  {
   "cell_type": "code",
   "execution_count": 6,
   "id": "548a7790-11c8-46b6-b236-ff2dfdab03a3",
   "metadata": {},
   "outputs": [],
   "source": [
    "def updateConflictDictionary(G,u,conflict_dictionary,old_conflict_level_u):\n",
    "    conflict_level_u=conflictLevel(G,u)\n",
    "    if old_conflict_level_u>0:\n",
    "        conflict_dictionary[old_conflict_level_u].remove(u)\n",
    "    if conflict_level_u>0:\n",
    "        conflict_dictionary[conflict_level_u].add(u)\n",
    "    return conflict_level_u-old_conflict_level_u"
   ]
  },
  {
   "cell_type": "code",
   "execution_count": 7,
   "id": "c1578349-55fb-47a8-bb51-9e0bdc513d8f",
   "metadata": {},
   "outputs": [],
   "source": [
    "def maxConflictLevel(conflict_dictionary):\n",
    "    return max([conflict_level for conflict_level in conflict_dictionary\n",
    "                if len(conflict_dictionary[conflict_level])>0])"
   ]
  },
  {
   "cell_type": "code",
   "execution_count": 8,
   "id": "0f3617ae-fdb3-442a-9eb2-31c5722b75d8",
   "metadata": {},
   "outputs": [],
   "source": [
    "def totalNumberOfConflicts(conflict_dictionary):\n",
    "    return sum(conflict_level*len(conflict_dictionary[conflict_level])\n",
    "               for conflict_level in conflict_dictionary)"
   ]
  },
  {
   "cell_type": "code",
   "execution_count": 9,
   "id": "4a90de19-3b3e-415a-9f22-887c3152957b",
   "metadata": {},
   "outputs": [],
   "source": [
    "def colorEdgeAndUpdate(G,u,v,color,conflict_dictionary):\n",
    "    old_conflict_level_u=conflictLevel(G,u)\n",
    "    old_conflict_level_v=conflictLevel(G,v)\n",
    "    G[u][v]=G[v][u]=color\n",
    "    updateConflictDictionary(G,u,\n",
    "                             conflict_dictionary,\n",
    "                             old_conflict_level_u)\n",
    "    return updateConflictDictionary(G,v,\n",
    "                                    conflict_dictionary,\n",
    "                                    old_conflict_level_v)"
   ]
  },
  {
   "cell_type": "code",
   "execution_count": 10,
   "id": "87ed5e87-3fa5-40a0-bffa-79359a6b80ac",
   "metadata": {},
   "outputs": [],
   "source": [
    "def KempeNext(G,last,node,new_color,conflict_dictionary):\n",
    "    available_for_next=[w for w in G[node] if w!=last\n",
    "                                           and G[node][w]==new_color]\n",
    "    if available_for_next==[]: next_node=None\n",
    "    else: next_node=choice(available_for_next)\n",
    "    old_color=G[last][node]\n",
    "    conflict_level_variation=colorEdgeAndUpdate(G,last,node,new_color,\n",
    "                                                conflict_dictionary)\n",
    "    return conflict_level_variation,old_color,next_node"
   ]
  },
  {
   "cell_type": "code",
   "execution_count": 11,
   "id": "01c6b748-bee4-4609-bc91-b87632c48f07",
   "metadata": {},
   "outputs": [],
   "source": [
    "def KempeStep(G,last,node,new_color,conflict_dictionary):\n",
    "    conflict_level_variation,old_color,next_node=KempeNext(G,last,node,\n",
    "new_color,\n",
    "                                                           conflict_dictionary)\n",
    "    if conflict_level_variation<0 or next_node==None: return node,None,None\n",
    "    return node,next_node,old_color"
   ]
  },
  {
   "cell_type": "code",
   "execution_count": 12,
   "id": "9d481909-3ee7-43e5-bed5-fe340a8094cf",
   "metadata": {},
   "outputs": [],
   "source": [
    "def KempeProcess(G,last,node,new_color,conflict_dictionary):\n",
    "    Kempe_chain=set([])\n",
    "    while new_color!=None and last not in Kempe_chain:\n",
    "        Kempe_chain.add(last)\n",
    "        last,node,new_color=KempeStep(G,last,node,new_color,\n",
    "                                      conflict_dictionary)"
   ]
  },
  {
   "cell_type": "code",
   "execution_count": 13,
   "id": "c0fc4ed4-4b1d-4ed3-992a-6e4459396eba",
   "metadata": {},
   "outputs": [],
   "source": [
    "def KempeStart(G,D,node,conflict_dictionary):\n",
    "    colors=set(range(D))\n",
    "    next_node=None\n",
    "    for adjacent in G[node]:\n",
    "        edge_color=G[node][adjacent]\n",
    "        if edge_color in colors: colors.remove(edge_color)\n",
    "        else: next_node=adjacent\n",
    "    if next_node!=None:\n",
    "        KempeProcess(G,node,next_node,choice(list(colors)),conflict_dictionary)"
   ]
  },
  {
   "cell_type": "code",
   "execution_count": 14,
   "id": "f2996f45-1cd4-49f0-aa19-5d74ffb0b3b9",
   "metadata": {},
   "outputs": [],
   "source": [
    "def preColoring(G,D): #Pre-coloring with a greedy algorithm\n",
    "    for e in G.edges(): \n",
    "        G[e[0]][e[1]]=G[e[1]][e[0]]=None\n",
    "    for e in G.edges():\n",
    "        available_colors=set(range(D))\n",
    "        available_colors-=set(G[e[0]].values())\n",
    "        available_colors-=set(G[e[1]].values())\n",
    "        if available_colors==set(): \n",
    "            G[e[0]][e[1]]=G[e[1]][e[0]]=randint(0,D-1)\n",
    "        else: \n",
    "            G[e[0]][e[1]]=G[e[1]][e[0]]=choice(list(available_colors))\n",
    "\n",
    "def preColoring(G,D): #Random pre-coloring\n",
    "  for e in G.edges(): \n",
    "      rand_val = randint(0,D-1)\n",
    "      G[e[0]][e[1]]['value']=rand_val\n",
    "      G[e[1]][e[0]]['value']=rand_val"
   ]
  },
  {
   "cell_type": "code",
   "execution_count": 15,
   "id": "27ca9f58-e510-4814-a394-36ea181c2936",
   "metadata": {},
   "outputs": [],
   "source": [
    "def heuristic(G,D,repetition_limit):\n",
    "    repetitionCounter=0\n",
    "    conflict_dictionary=createConflictDictionary(G,D)\n",
    "    previous=current=totalNumberOfConflicts(conflict_dictionary)\n",
    "    while previous>0:\n",
    "        highest_conflict_level=maxConflictLevel(conflict_dictionary)\n",
    "        node=choice(list(conflict_dictionary[highest_conflict_level]))\n",
    "        KempeStart(G,D,node,conflict_dictionary)\n",
    "        current=totalNumberOfConflicts(conflict_dictionary)\n",
    "        if current==0: return True\n",
    "        if current>=previous:\n",
    "            repetitionCounter+=1\n",
    "            if repetitionCounter>repetition_limit: return False\n",
    "        else: repetitionCounter=0\n",
    "        previous=min(previous,current)\n",
    "    return True"
   ]
  },
  {
   "cell_type": "code",
   "execution_count": 16,
   "id": "265b6347-6842-437c-8e0e-76fdab3bb409",
   "metadata": {},
   "outputs": [],
   "source": [
    "def applyHeuristic(G,D,repetition_limit,iteration_limit):\n",
    "    preColoring(G,D)\n",
    "    number_of_iterations=1\n",
    "    while not heuristic(G,D,repetition_limit):\n",
    "        if number_of_iterations>iteration_limit: break\n",
    "        preColoring(G,D)\n",
    "        number_of_iterations+=1\n",
    "    print(\"Number of iterations:\",number_of_iterations)\n",
    "    print(\"Edge-coloring successful:\",checkEdgeColoring(G,D))"
   ]
  },
  {
   "cell_type": "code",
   "execution_count": 17,
   "id": "582021ca-b828-440d-ba99-2e4ef47fb53d",
   "metadata": {},
   "outputs": [
    {
     "name": "stdout",
     "output_type": "stream",
     "text": [
      "Number of iterations: 1\n",
      "Edge-coloring successful: False\n"
     ]
    }
   ],
   "source": [
    "repetition_limit=iteration_limit=500\n",
    "NUMBER_OF_VERTICES=10\n",
    "DEGREE=2\n",
    "# G=nx.random_regular_graph(DEGREE,NUMBER_OF_VERTICES)\n",
    "\n",
    "G = nx.cycle_graph(NUMBER_OF_VERTICES)\n",
    "\n",
    "nx.set_edge_attributes(G, [], \"value\")\n",
    "\n",
    "\n",
    "applyHeuristic(G,DEGREE,repetition_limit,iteration_limit)"
   ]
  },
  {
   "cell_type": "code",
   "execution_count": 18,
   "id": "b593c5bf-f6e2-4850-ad71-2a95a39579dd",
   "metadata": {},
   "outputs": [
    {
     "name": "stdout",
     "output_type": "stream",
     "text": [
      "0-1: 1\n",
      "0-9: 0\n",
      "1-2: 0\n",
      "2-3: 1\n",
      "3-4: 1\n",
      "4-5: 0\n",
      "5-6: 1\n",
      "6-7: 1\n",
      "7-8: 1\n",
      "8-9: 0\n"
     ]
    }
   ],
   "source": [
    "for u,v in G.edges():\n",
    "    print(f'{u}-{v}:',G[u][v]['value'])"
   ]
  },
  {
   "cell_type": "code",
   "execution_count": 19,
   "id": "97490cb2-a9c0-499b-84cb-310f72c45e69",
   "metadata": {},
   "outputs": [],
   "source": [
    "colors_set = ['r', 'b', 'g', 'p']\n",
    "\n",
    "H = nx.Graph()\n",
    "\n",
    "for u,v in G.edges:\n",
    "    H.add_edge(u,v, color = colors_set[G[u][v]['value']])\n",
    "\n",
    "colors = [H[u][v]['color'] for u,v in G.edges]"
   ]
  },
  {
   "cell_type": "code",
   "execution_count": 20,
   "id": "10ca9f5a-28ef-4633-a733-945daa6fdc1b",
   "metadata": {},
   "outputs": [
    {
     "data": {
      "image/png": "[encoded data removed]",
      "text/plain": [
       "<Figure size 640x480 with 1 Axes>"
      ]
     },
     "metadata": {},
     "output_type": "display_data"
    }
   ],
   "source": [
    "nx.draw(H,edge_color=colors)"
   ]
  },
  {
   "cell_type": "code",
   "execution_count": 21,
   "id": "9add0241-dcaf-4a23-a122-a990f555efb5",
   "metadata": {},
   "outputs": [
    {
     "ename": "ModuleNotFoundError",
     "evalue": "No module named 'tensorflow'",
     "output_type": "error",
     "traceback": [
      "\u001b[1;31m---------------------------------------------------------------------------\u001b[0m",
      "\u001b[1;31mModuleNotFoundError\u001b[0m                       Traceback (most recent call last)",
      "Cell \u001b[1;32mIn[21], line 2\u001b[0m\n\u001b[0;32m      1\u001b[0m \u001b[38;5;28;01mimport\u001b[39;00m \u001b[38;5;21;01mnumpy\u001b[39;00m \u001b[38;5;28;01mas\u001b[39;00m \u001b[38;5;21;01mnp\u001b[39;00m\n\u001b[1;32m----> 2\u001b[0m \u001b[38;5;28;01mimport\u001b[39;00m \u001b[38;5;21;01mtensorflow\u001b[39;00m \u001b[38;5;28;01mas\u001b[39;00m \u001b[38;5;21;01mtf\u001b[39;00m\n\u001b[0;32m      3\u001b[0m \u001b[38;5;28;01mimport\u001b[39;00m \u001b[38;5;21;01mtime\u001b[39;00m\n",
      "\u001b[1;31mModuleNotFoundError\u001b[0m: No module named 'tensorflow'"
     ]
    }
   ],
   "source": [
    "# import numpy as np\n",
    "# import tensorflow as tf\n",
    "# import time"
   ]
  },
  {
   "cell_type": "markdown",
   "id": "6756b0ff-3a3a-4122-a23f-8bfe2b3ff6ad",
   "metadata": {},
   "source": [
    "#### Line Graph"
   ]
  },
  {
   "cell_type": "code",
   "execution_count": 22,
   "id": "bf85acef-de8e-4508-9676-08dfd9388240",
   "metadata": {},
   "outputs": [],
   "source": [
    "import networkx as nx\n",
    "import matplotlib.pyplot as plt"
   ]
  },
  {
   "cell_type": "code",
   "execution_count": 23,
   "id": "5c079310-8d3f-4c9d-bfd6-826d8575a991",
   "metadata": {},
   "outputs": [],
   "source": [
    "def edge_coloring_line_graph(G, strategy='largest_first', interchange = False):\n",
    "    LG = nx.line_graph(G)\n",
    "    colors = nx.greedy_color(LG, \n",
    "                             strategy=strategy, \n",
    "                             interchange=interchange)\n",
    "    edge_colors = [(u,v, colors[(u,v)]) for u,v in colors.keys()]\n",
    "    \n",
    "    number_of_colors = max([x[2] for x in edge_colors])+1\n",
    "\n",
    "    return edge_colors, number_of_colors\n",
    "\n",
    "def colored_graph(edge_colors):\n",
    "    color_set = [\n",
    "        \"#FF5733\",  # Coral\n",
    "        \"#33FF57\",  # Mint Green\n",
    "        \"#5733FF\",  # Royal Blue\n",
    "        \"#FF33A3\",  # Hot Pink\n",
    "        \"#33A3FF\",  # Sky Blue\n",
    "        \"#FFCA33\",  # Gold\n",
    "        \"#33FFCA\",  # Turquoise\n",
    "        \"#CA33FF\",  # Purple\n",
    "        \"#FF336D\",  # Salmon\n",
    "        \"#33FF33\",  # Lime Green\n",
    "        \"#FFC300\",  # Fluorescent Yellow\n",
    "        \"#C70039\",  # Carmine\n",
    "        \"#900C3F\",  # Dark Magenta\n",
    "        \"#581845\",  # Dark Violet\n",
    "        \"#FF5733\",  # Coral\n",
    "        \"#01A368\",  # Green-Blue\n",
    "        \"#007FFF\",  # Azure\n",
    "        \"#ED9121\",  # Tiger's Eye\n",
    "        \"#E30B5C\",  # Shocking Pink\n",
    "        \"#4D5D53\"   # Slate Gray\n",
    "    ]\n",
    "    H = nx.Graph()\n",
    "    for u,v,w in edge_colors:\n",
    "        H.add_edge(u,v,color = color_set[w])\n",
    "\n",
    "    colors = [H[u][v]['color'] for u,v in H.edges()]\n",
    "    \n",
    "    plt.figure(dpi = 70)\n",
    "    nx.draw(H, edge_color=colors, \n",
    "            width = 5, \n",
    "            node_color = '#8E9699', \n",
    "            with_labels = True)\n",
    "    plt.show()\n",
    "    \n",
    "\n",
    "\n",
    "    return H\n",
    "\n",
    "  "
   ]
  },
  {
   "cell_type": "code",
   "execution_count": 39,
   "id": "06fba8b5-1f6b-4d88-b483-22848e9ade78",
   "metadata": {},
   "outputs": [
    {
     "data": {
      "image/png": "[encoded data removed]",
      "text/plain": [
       "<Figure size 448x336 with 1 Axes>"
      ]
     },
     "metadata": {},
     "output_type": "display_data"
    },
    {
     "name": "stdout",
     "output_type": "stream",
     "text": [
      "Number of colors: 3\n"
     ]
    }
   ],
   "source": [
    "strategy_set = ['largest_first',\n",
    "'random_sequential',\n",
    "'smallest_last',\n",
    "'independent_set',\n",
    "'connected_sequential_bfs',\n",
    "'connected_sequential_dfs',\n",
    "'connected_sequential',\n",
    "'saturation_largest_first',\n",
    "'DSATUR']\n",
    "\n",
    "N = 7\n",
    "p = .3\n",
    "# G = nx.grid_graph(dim = (N,N), periodic = True)\n",
    "# G = nx.triangular_lattice_graph(N,N, periodic = True)\n",
    "G = nx.cycle_graph(N)\n",
    "# G = nx.erdos_renyi_graph(N,p)\n",
    "# G = nx.hypercube_graph(N)\n",
    "# G = nx.hexagonal_lattice_graph(N,N)\n",
    "# G = nx.circular_ladder_graph(N)\n",
    "\n",
    "\n",
    "E,color_n = edge_coloring_line_graph(G, strategy=strategy_set[8], interchange = False)\n",
    "H = colored_graph(E)\n",
    "print('Number of colors:', color_n)"
   ]
  },
  {
   "cell_type": "markdown",
   "id": "1c3d06ed-4e52-4db9-b1c6-b60107906b52",
   "metadata": {},
   "source": [
    "Edge coloring lattice graphs\n",
    "- https://arxiv.org/abs/2402.08752\n",
    "- https://github.com/kattemolle/ecolpy\n",
    "\n",
    "pedritastark/graph-coloring\n",
    "- https://github.com/pedritastark/graph-coloring/blob/main/__main__.py"
   ]
  },
  {
   "cell_type": "code",
   "execution_count": null,
   "id": "8f1886a1-149c-46c6-90c9-6ad29bcbb71a",
   "metadata": {},
   "outputs": [],
   "source": []
  }
 ],
 "metadata": {
  "kernelspec": {
   "display_name": "Python 3 (ipykernel)",
   "language": "python",
   "name": "python3"
  },
  "language_info": {
   "codemirror_mode": {
    "name": "ipython",
    "version": 3
   },
   "file_extension": ".py",
   "mimetype": "text/x-python",
   "name": "python",
   "nbconvert_exporter": "python",
   "pygments_lexer": "ipython3",
   "version": "3.12.1"
  }
 },
 "nbformat": 4,
 "nbformat_minor": 5
}
