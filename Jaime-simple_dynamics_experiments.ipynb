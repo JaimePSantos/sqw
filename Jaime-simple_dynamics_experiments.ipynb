{
 "cells": [
  {
   "cell_type": "markdown",
   "id": "5945f8c2-2573-4528-8e7a-f652b9fe6983",
   "metadata": {},
   "source": [
    "##### 1 – Imports"
   ]
  },
  {
   "cell_type": "code",
   "execution_count": 2,
   "id": "9252b3d3-6505-4ffe-ab3d-b345043795a3",
   "metadata": {},
   "outputs": [],
   "source": [
    "from sqw.tesselations import even_cycle_two_tesselation\n",
    "from sqw.experiments import running\n",
    "from sqw.states import uniform_initial_state, amp2prob\n",
    "from sqw.statistics import states2mean, states2std, states2ipr, states2survival\n",
    "from sqw.plots import final_distribution_plot, mean_plot, std_plot, ipr_plot, survival_plot\n",
    "from sqw.utils import random_tesselation_order, random_angle_deviation, tesselation_choice\n",
    "\n",
    "import networkx as nx\n",
    "import numpy as np\n",
    "import matplotlib.pyplot as plt\n",
    "import seaborn as sns\n",
    "\n",
    "from mpl_toolkits.axes_grid1 import make_axes_locatable"
   ]
  },
  {
   "cell_type": "markdown",
   "id": "b876c21e-c4aa-445c-bc8e-e799bc2484d3",
   "metadata": {},
   "source": [
    "##### 2 – Dynamics"
   ]
  },
  {
   "cell_type": "markdown",
   "id": "93d799eb-5466-4493-8350-b0a75264bfa9",
   "metadata": {},
   "source": [
    "###### 2.1 – Original"
   ]
  },
  {
   "cell_type": "code",
   "execution_count": 31,
   "id": "8c02e2d9-6815-4a46-b4b5-6cc36691bc8f",
   "metadata": {},
   "outputs": [
    {
     "name": "stdout",
     "output_type": "stream",
     "text": [
      "[[array([[0.],\n",
      "       [0.],\n",
      "       [0.],\n",
      "       [1.],\n",
      "       [0.]]), array([[0.    ],\n",
      "       [0.5625],\n",
      "       [0.1875],\n",
      "       [0.0625],\n",
      "       [0.1875]]), array([[4.21875000e-01],\n",
      "       [3.16406250e-01],\n",
      "       [1.17187500e-02],\n",
      "       [2.50000000e-01],\n",
      "       [1.92592994e-32]]), array([[6.59179687e-01],\n",
      "       [3.16406250e-01],\n",
      "       [4.93038066e-32],\n",
      "       [6.10351563e-03],\n",
      "       [1.83105469e-02]])], [array([[0.],\n",
      "       [0.],\n",
      "       [0.],\n",
      "       [1.],\n",
      "       [0.]]), array([[0.    ],\n",
      "       [0.5625],\n",
      "       [0.1875],\n",
      "       [0.0625],\n",
      "       [0.1875]]), array([[4.21875000e-01],\n",
      "       [3.16406250e-01],\n",
      "       [1.17187500e-02],\n",
      "       [2.50000000e-01],\n",
      "       [1.92592994e-32]]), array([[6.59179687e-01],\n",
      "       [3.16406250e-01],\n",
      "       [4.93038066e-32],\n",
      "       [6.10351563e-03],\n",
      "       [1.83105469e-02]])]]\n",
      "[array([[0.],\n",
      "       [0.],\n",
      "       [0.],\n",
      "       [1.],\n",
      "       [0.]]), array([[0.    ],\n",
      "       [0.5625],\n",
      "       [0.1875],\n",
      "       [0.0625],\n",
      "       [0.1875]]), array([[4.21875000e-01],\n",
      "       [3.16406250e-01],\n",
      "       [1.17187500e-02],\n",
      "       [2.50000000e-01],\n",
      "       [1.92592994e-32]]), array([[6.59179687e-01],\n",
      "       [3.16406250e-01],\n",
      "       [4.93038066e-32],\n",
      "       [6.10351563e-03],\n",
      "       [1.83105469e-02]])]\n"
     ]
    }
   ],
   "source": [
    "N = 5\n",
    "T = even_cycle_two_tesselation(N)\n",
    "G = nx.cycle_graph(N)\n",
    "final_dist_list = []\n",
    "samples = 2\n",
    "\n",
    "for _ in range(0,samples):\n",
    "    steps = 3\n",
    "    angles = [[np.pi/3, np.pi/3]] * steps\n",
    "    tesselation_order = [[0,1] for x in range(steps)]\n",
    "    initial_state = uniform_initial_state(N, nodes = [N//2+1])\n",
    "    \n",
    "    states_ua_ut = running(G, T, steps, \n",
    "                     initial_state, \n",
    "                     angles = angles, \n",
    "                     tesselation_order = tesselation_order)\n",
    "    \n",
    "    final_dist = [amp2prob(x) for x in states_ua_ut]\n",
    "    final_dist_list.append(final_dist)\n",
    "\n",
    "# print(final_dist_list)\n",
    "average_distributions = [np.mean(np.array(list(map(lambda x: x[i], final_dist_list))), axis=0) for i in range(len(final_dist_list[0]))]\n",
    "print(final_dist_list)\n",
    "print(average_distributions)\n",
    "\n"
   ]
  },
  {
   "cell_type": "code",
   "execution_count": 28,
   "id": "c39e2554-e28d-446e-a37f-dec14eca532a",
   "metadata": {},
   "outputs": [
    {
     "data": {
      "image/png": "[encoded data removed]",
      "text/plain": [
       "<Figure size 640x480 with 2 Axes>"
      ]
     },
     "metadata": {},
     "output_type": "display_data"
    }
   ],
   "source": [
    "x = np.arange(-N//2, N//2, 1)\n",
    "y = np.arange(0, steps, 1)\n",
    "X, Y = np.meshgrid(x, y)\n",
    "\n",
    "fig, ax = plt.subplots()\n",
    "\n",
    "im = ax.imshow(average_distributions,interpolation='None',cmap='viridis', extent = [-N//2, N//2, steps, 0])\n",
    "\n",
    "ratio = 0.5\n",
    "x_left, x_right = ax.get_xlim()\n",
    "y_low, y_high = ax.get_ylim()\n",
    "ax.set_aspect(abs((x_right-x_left)/(y_low-y_high))*ratio)\n",
    "ax.set_xlabel('x',fontsize = 14)\n",
    "ax.set_ylabel('steps',fontsize = 14)\n",
    "ax.tick_params(axis='both', which='major', labelsize=11)\n",
    "\n",
    "ax.set_xlim([-40,40])\n",
    "\n",
    "ax.set_yticks(np.arange(0, steps+1, 2))\n",
    "ax.set_xticks(np.arange(-40, 41, 10))\n",
    "\n",
    "cbar = fig.colorbar(im,fraction=0.035, pad=0.04)\n",
    "cbar.set_label('Probability', rotation=270,labelpad=20,fontsize = 14)\n",
    "\n",
    "\n",
    "# plt.savefig(f'images/sqw_N{N}_t{steps}_thetapi3-pi3_init0.png',bbox_inches='tight',dpi=300)\n",
    "plt.show()"
   ]
  },
  {
   "cell_type": "code",
   "execution_count": 26,
   "id": "00d4aca2-1c0c-4455-a37e-d9ec85e7c313",
   "metadata": {},
   "outputs": [
    {
     "data": {
      "text/plain": [
       "[array([0.]),\n",
       " array([1.01588354]),\n",
       " array([2.14229941]),\n",
       " array([3.06864547]),\n",
       " array([3.69981056]),\n",
       " array([4.41997251]),\n",
       " array([5.1899234]),\n",
       " array([6.17615237]),\n",
       " array([6.93260036]),\n",
       " array([7.67949429]),\n",
       " array([8.38087124]),\n",
       " array([8.70967194]),\n",
       " array([9.39464224]),\n",
       " array([9.74673278]),\n",
       " array([9.9006329]),\n",
       " array([10.2600225]),\n",
       " array([10.8578021]),\n",
       " array([11.64936745]),\n",
       " array([12.09601626]),\n",
       " array([12.84208164]),\n",
       " array([13.72803116])]"
      ]
     },
     "execution_count": 26,
     "metadata": {},
     "output_type": "execute_result"
    }
   ],
   "source": [
    "states2std(states_ra_ut, range(0, N))"
   ]
  },
  {
   "cell_type": "markdown",
   "id": "18c902e5-706c-43b0-a0c1-93bca8848b95",
   "metadata": {},
   "source": [
    "###### 2.2 – Random Angles"
   ]
  },
  {
   "cell_type": "code",
   "execution_count": 24,
   "id": "beffbd1c-7f26-4e0f-a1de-e98015d8fb98",
   "metadata": {},
   "outputs": [],
   "source": [
    "N = 121\n",
    "T = even_cycle_two_tesselation(N)\n",
    "G = nx.cycle_graph(N)\n",
    "\n",
    "steps = 20\n",
    "angles = random_angle_deviation([np.pi/3, np.pi/3], [.4, .4], steps)\n",
    "tesselation_order = [[0,1] for x in range(steps)]\n",
    "initial_state = uniform_initial_state(N, nodes = [N//2 + 1])\n",
    "\n",
    "states_ra_ut = running(G, T, steps, \n",
    "                 initial_state, \n",
    "                 angles = angles, \n",
    "                 tesselation_order = tesselation_order)\n",
    "final_dist = [amp2prob(x) for x in states_ra_ut]"
   ]
  },
  {
   "cell_type": "code",
   "execution_count": 25,
   "id": "1576c9ea-ef3c-44ef-876f-b9b0c62eb6aa",
   "metadata": {},
   "outputs": [
    {
     "data": {
      "image/png": "[encoded data removed]",
      "text/plain": [
       "<Figure size 640x480 with 2 Axes>"
      ]
     },
     "metadata": {},
     "output_type": "display_data"
    }
   ],
   "source": [
    "x = np.arange(-N//2, N//2, 1)\n",
    "y = np.arange(0, steps, 1)\n",
    "X, Y = np.meshgrid(x, y)\n",
    "\n",
    "fig, ax = plt.subplots()\n",
    "\n",
    "im = ax.imshow(final_dist,interpolation='None',cmap='viridis', extent = [-N//2, N//2, steps, 0])\n",
    "\n",
    "ratio = 0.5\n",
    "x_left, x_right = ax.get_xlim()\n",
    "y_low, y_high = ax.get_ylim()\n",
    "ax.set_aspect(abs((x_right-x_left)/(y_low-y_high))*ratio)\n",
    "ax.set_xlabel('x',fontsize = 14)\n",
    "ax.set_ylabel('steps',fontsize = 14)\n",
    "ax.tick_params(axis='both', which='major', labelsize=11)\n",
    "\n",
    "ax.set_xlim([-40,40])\n",
    "\n",
    "ax.set_yticks(np.arange(0, steps+1, 2))\n",
    "ax.set_xticks(np.arange(-40, 41, 10))\n",
    "\n",
    "cbar = fig.colorbar(im,fraction=0.035, pad=0.04)\n",
    "cbar.set_label('Probability', rotation=270,labelpad=20,fontsize = 14)\n",
    "\n",
    "\n",
    "# plt.savefig(f'images/sqw_N{N}_t{steps}_thetapi3-pi3_init0.png',bbox_inches='tight',dpi=300)\n",
    "plt.show()"
   ]
  },
  {
   "cell_type": "code",
   "execution_count": null,
   "id": "d3baef11-9cf9-4489-bcf1-3e39e27542e7",
   "metadata": {},
   "outputs": [],
   "source": []
  },
  {
   "cell_type": "code",
   "execution_count": 32,
   "id": "0c584a59-f678-481b-800b-2455aec8ac20",
   "metadata": {},
   "outputs": [
    {
     "name": "stdout",
     "output_type": "stream",
     "text": [
      "[[array([[0.],\n",
      "       [0.],\n",
      "       [0.],\n",
      "       [1.],\n",
      "       [0.]]), array([[0.        ],\n",
      "       [0.61797145],\n",
      "       [0.21156494],\n",
      "       [0.04347503],\n",
      "       [0.12698857]]), array([[0.25512049],\n",
      "       [0.49288391],\n",
      "       [0.1065751 ],\n",
      "       [0.14418711],\n",
      "       [0.00123339]]), array([[7.31500134e-01],\n",
      "       [2.53512501e-01],\n",
      "       [9.60504859e-05],\n",
      "       [4.24742194e-05],\n",
      "       [1.48488403e-02]])], [array([[0.],\n",
      "       [0.],\n",
      "       [0.],\n",
      "       [1.],\n",
      "       [0.]]), array([[0.        ],\n",
      "       [0.63359649],\n",
      "       [0.05865904],\n",
      "       [0.02607707],\n",
      "       [0.2816674 ]]), array([[0.50954651],\n",
      "       [0.14670608],\n",
      "       [0.04083886],\n",
      "       [0.29138689],\n",
      "       [0.01152167]]), array([[0.38804273],\n",
      "       [0.56638461],\n",
      "       [0.03381746],\n",
      "       [0.01036478],\n",
      "       [0.00139042]])]]\n",
      "[array([[0.],\n",
      "       [0.],\n",
      "       [0.],\n",
      "       [1.],\n",
      "       [0.]]), array([[0.        ],\n",
      "       [0.62578397],\n",
      "       [0.13511199],\n",
      "       [0.03477605],\n",
      "       [0.20432799]]), array([[0.3823335 ],\n",
      "       [0.31979499],\n",
      "       [0.07370698],\n",
      "       [0.217787  ],\n",
      "       [0.00637753]]), array([[0.55977143],\n",
      "       [0.40994856],\n",
      "       [0.01695675],\n",
      "       [0.00520363],\n",
      "       [0.00811963]])]\n"
     ]
    }
   ],
   "source": [
    "N = 5\n",
    "T = even_cycle_two_tesselation(N)\n",
    "G = nx.cycle_graph(N)\n",
    "final_dist_list = []\n",
    "samples = 2\n",
    "\n",
    "for _ in range(0,samples):\n",
    "    steps = 3\n",
    "    angles = random_angle_deviation([np.pi/3, np.pi/3], [.4, .4], steps)\n",
    "    tesselation_order = [[0,1] for x in range(steps)]\n",
    "    initial_state = uniform_initial_state(N, nodes = [N//2+1])\n",
    "    \n",
    "    states_ua_ut = running(G, T, steps, \n",
    "                     initial_state, \n",
    "                     angles = angles, \n",
    "                     tesselation_order = tesselation_order)\n",
    "    \n",
    "    final_dist = [amp2prob(x) for x in states_ua_ut]\n",
    "    final_dist_list.append(final_dist)\n",
    "\n",
    "# print(final_dist_list)\n",
    "average_distributions = [np.mean(np.array(list(map(lambda x: x[i], final_dist_list))), axis=0) for i in range(len(final_dist_list[0]))]\n",
    "print(final_dist_list)\n",
    "print(average_distributions)\n",
    "\n"
   ]
  },
  {
   "cell_type": "code",
   "execution_count": 34,
   "id": "0bdd66de-d20f-4a50-9a55-967ee9c51130",
   "metadata": {},
   "outputs": [
    {
     "name": "stdout",
     "output_type": "stream",
     "text": [
      "[array([[0.],\n",
      "       [0.],\n",
      "       [0.],\n",
      "       [1.],\n",
      "       [0.]]), array([[0.        ],\n",
      "       [0.62578397],\n",
      "       [0.13511199],\n",
      "       [0.03477605],\n",
      "       [0.20432799]]), array([[0.3823335 ],\n",
      "       [0.31979499],\n",
      "       [0.07370698],\n",
      "       [0.217787  ],\n",
      "       [0.00637753]]), array([[0.55977143],\n",
      "       [0.40994856],\n",
      "       [0.01695675],\n",
      "       [0.00520363],\n",
      "       [0.00811963]])]\n",
      "[array([[0.],\n",
      "       [0.],\n",
      "       [0.],\n",
      "       [1.],\n",
      "       [0.]]), array([[0.        ],\n",
      "       [0.62578397],\n",
      "       [0.13511199],\n",
      "       [0.03477605],\n",
      "       [0.20432799]]), array([[0.3823335 ],\n",
      "       [0.31979499],\n",
      "       [0.07370698],\n",
      "       [0.217787  ],\n",
      "       [0.00637753]]), array([[0.55977143],\n",
      "       [0.40994856],\n",
      "       [0.01695675],\n",
      "       [0.00520363],\n",
      "       [0.00811963]])]\n"
     ]
    }
   ],
   "source": [
    "import numpy as np\n",
    "\n",
    "def calculate_average_distributions(final_dist_list, samples):\n",
    "    # Check if final_dist_list is empty or contains empty distributions\n",
    "    if not final_dist_list or not final_dist_list[0]:\n",
    "        return []\n",
    "    \n",
    "    # Initialize an array to hold the average distributions\n",
    "    average_distributions = [np.zeros_like(dist) for dist in final_dist_list[0]]\n",
    "    \n",
    "    # Iterate over each distribution index\n",
    "    for i in range(len(final_dist_list[0])):\n",
    "        # Iterate over each sample and accumulate the distributions\n",
    "        for sample in final_dist_list:\n",
    "            average_distributions[i] += np.array(sample[i])\n",
    "        # Divide by the number of samples to get the average\n",
    "        average_distributions[i] /= samples\n",
    "    \n",
    "    return average_distributions\n",
    "\n",
    "print(average_distributions)\n",
    "print(calculate_average_distributions(final_dist_list,samples))"
   ]
  },
  {
   "cell_type": "code",
   "execution_count": null,
   "id": "e0c14a12-310e-462c-b3d4-af8c1e67d9a8",
   "metadata": {},
   "outputs": [],
   "source": []
  },
  {
   "cell_type": "code",
   "execution_count": null,
   "id": "5e1f6ad1-56e1-4fca-bfe7-243a79ffdf2d",
   "metadata": {},
   "outputs": [],
   "source": []
  },
  {
   "cell_type": "code",
   "execution_count": null,
   "id": "7ac23d7d-2a87-4337-9fb3-5cd8d5c9f994",
   "metadata": {},
   "outputs": [],
   "source": []
  }
 ],
 "metadata": {
  "kernelspec": {
   "display_name": "Python 3 (ipykernel)",
   "language": "python",
   "name": "python3"
  },
  "language_info": {
   "codemirror_mode": {
    "name": "ipython",
    "version": 3
   },
   "file_extension": ".py",
   "mimetype": "text/x-python",
   "name": "python",
   "nbconvert_exporter": "python",
   "pygments_lexer": "ipython3",
   "version": "3.12.1"
  }
 },
 "nbformat": 4,
 "nbformat_minor": 5
}
