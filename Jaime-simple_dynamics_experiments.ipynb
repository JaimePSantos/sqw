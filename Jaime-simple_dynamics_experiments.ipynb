{
 "cells": [
  {
   "cell_type": "markdown",
   "id": "5945f8c2-2573-4528-8e7a-f652b9fe6983",
   "metadata": {},
   "source": [
    "##### 1 – Imports"
   ]
  },
  {
   "cell_type": "code",
   "execution_count": 2,
   "id": "9252b3d3-6505-4ffe-ab3d-b345043795a3",
   "metadata": {},
   "outputs": [],
   "source": [
    "from sqw.tesselations import even_cycle_two_tesselation\n",
    "from sqw.experiments_expanded import running\n",
    "from sqw.states import uniform_initial_state, amp2prob\n",
    "from sqw.statistics import states2mean, states2std, states2ipr, states2survival\n",
    "from sqw.plots import final_distribution_plot, mean_plot, std_plot, ipr_plot, survival_plot\n",
    "from sqw.utils import random_tesselation_order, random_angle_deviation, tesselation_choice\n",
    "from jaime_scripts import save_array_list_to_file,load_array_list_from_file\n",
    "\n",
    "\n",
    "import networkx as nx\n",
    "import numpy as np\n",
    "import matplotlib.pyplot as plt\n",
    "import seaborn as sns\n",
    "import os\n",
    "\n",
    "from mpl_toolkits.axes_grid1 import make_axes_locatable\n",
    "\n",
    "import tqdm"
   ]
  },
  {
   "cell_type": "markdown",
   "id": "b876c21e-c4aa-445c-bc8e-e799bc2484d3",
   "metadata": {},
   "source": [
    "##### 2 – Dynamics"
   ]
  },
  {
   "cell_type": "markdown",
   "id": "93d799eb-5466-4493-8350-b0a75264bfa9",
   "metadata": {},
   "source": [
    "###### 2.1 – Original"
   ]
  },
  {
   "cell_type": "code",
   "execution_count": 3,
   "id": "d15dcc14-faa9-4a17-a5fa-330731047651",
   "metadata": {},
   "outputs": [],
   "source": [
    "import numpy as np\n",
    "import matplotlib.pyplot as plt\n",
    "\n",
    "def plot_distribution(final_dist, N, steps, y_ticks_step=2, x_ticks_step=5, ratio=0.5, cmap='viridis', cbar_label='Probability', interpolation='None', xlabel='x', ylabel='steps', xtick_labelsize=11, ytick_labelsize=11, cbar_labelpad=20, cbar_fraction=0.035, cbar_pad=0.04, fig_dpi=300, save_path=None):\n",
    "    \"\"\"\n",
    "    Plots a 2D distribution with customizable settings.\n",
    "\n",
    "    Parameters:\n",
    "    - final_dist: 2D array, the data to plot.\n",
    "    - N: int, range for x-axis (from -N//2 to N//2).\n",
    "    - steps: int, range for y-axis (from 0 to steps).\n",
    "    - y_ticks_step: int, step size for y-axis ticks.\n",
    "    - x_ticks_step: int, step size for x-axis ticks.\n",
    "    - ratio: float, aspect ratio adjustment.\n",
    "    - cmap: str, colormap to use for the plot.\n",
    "    - cbar_label: str, label for the color bar.\n",
    "    - interpolation: str, interpolation method for imshow.\n",
    "    - xlabel: str, label for the x-axis.\n",
    "    - ylabel: str, label for the y-axis.\n",
    "    - xtick_labelsize: int, label size for x-axis ticks.\n",
    "    - ytick_labelsize: int, label size for y-axis ticks.\n",
    "    - cbar_labelpad: int, padding for the color bar label.\n",
    "    - cbar_fraction: float, fraction of the color bar size.\n",
    "    - cbar_pad: float, padding between the plot and the color bar.\n",
    "    - fig_dpi: int, resolution of the figure.\n",
    "    - save_path: str, path to save the figure. If None, the figure is not saved.\n",
    "    \"\"\"\n",
    "    \n",
    "    x = np.arange(-N//2, N//2, 1)\n",
    "    y = np.arange(0, steps, 1)\n",
    "    X, Y = np.meshgrid(x, y)\n",
    "\n",
    "    fig, ax = plt.subplots()\n",
    "\n",
    "    im = ax.imshow(final_dist, interpolation=interpolation, cmap=cmap, extent=[-N//2, N//2, steps, 0])\n",
    "\n",
    "    x_left, x_right = ax.get_xlim()\n",
    "    y_low, y_high = ax.get_ylim()\n",
    "    ax.set_aspect(abs((x_right-x_left)/(y_low-y_high))*ratio)\n",
    "    ax.set_xlabel(xlabel, fontsize=14)\n",
    "    ax.set_ylabel(ylabel, fontsize=14)\n",
    "    ax.tick_params(axis='both', which='major', labelsize=xtick_labelsize)\n",
    "\n",
    "    ax.set_xlim([-N//2, N//2])\n",
    "\n",
    "    ax.set_yticks(np.arange(0, steps+1, y_ticks_step))\n",
    "    ax.set_xticks(np.arange(-N//2, N//2 + 1, x_ticks_step))\n",
    "\n",
    "    cbar = fig.colorbar(im, fraction=cbar_fraction, pad=cbar_pad)\n",
    "    cbar.set_label(cbar_label, rotation=270, labelpad=cbar_labelpad, fontsize=14)\n",
    "\n",
    "    if save_path:\n",
    "        plt.savefig(save_path, bbox_inches='tight', dpi=fig_dpi)\n",
    "\n",
    "    plt.show()\n",
    "\n",
    "# Example usage\n",
    "# plot_distribution(final_dist, N=50, steps=20)\n"
   ]
  },
  {
   "cell_type": "code",
   "execution_count": 4,
   "id": "f71cf222-e164-4265-9a61-f2c5d699b3a9",
   "metadata": {},
   "outputs": [],
   "source": [
    "def calculate_average_distributions(N, T, G, samples, steps,deviation):\n",
    "    \"\"\"\n",
    "    Calculates the average distributions over a given number of samples.\n",
    "\n",
    "    Parameters:\n",
    "    - N: int, the size parameter.\n",
    "    - T: object, the tesselation object.\n",
    "    - G: graph, the networkx graph.\n",
    "    - samples: int, the number of samples to generate.\n",
    "    - steps: int, the number of steps for the process.\n",
    "\n",
    "    Returns:\n",
    "    - average_distributions: list of numpy arrays, the averaged distributions.\n",
    "    \"\"\"\n",
    "    final_dist_list = []\n",
    "\n",
    "    for _ in tqdm.tqdm(range(samples)):\n",
    "        angles = random_angle_deviation([np.pi/3, np.pi/3], [deviation, deviation], steps)\n",
    "        tesselation_order = [[0, 1] for _ in range(steps)]\n",
    "        initial_state = uniform_initial_state(N, nodes=[N//2 + 1])\n",
    "        \n",
    "        states_ua_ut = running(G, T, steps, \n",
    "                               initial_state, \n",
    "                               angles=angles, \n",
    "                               tesselation_order=tesselation_order)\n",
    "\n",
    "        final_dist = [amp2prob(x) for x in states_ua_ut]\n",
    "        final_dist_list.append(final_dist)\n",
    "\n",
    "    average_distributions = [np.mean(np.array(list(map(lambda x: x[i], final_dist_list))), axis=0) for i in range(len(final_dist_list[0]))]\n",
    "    \n",
    "    return average_distributions\n",
    "\n",
    "def calculate_average_stdev(N, T, G, samples, steps,deviation,domain):\n",
    "    \"\"\"\n",
    "    Calculates the average distributions over a given number of samples.\n",
    "\n",
    "    Parameters:\n",
    "    - N: int, the size parameter.\n",
    "    - T: object, the tesselation object.\n",
    "    - G: graph, the networkx graph.\n",
    "    - samples: int, the number of samples to generate.\n",
    "    - steps: int, the number of steps for the process.\n",
    "\n",
    "    Returns:\n",
    "    - average_distributions: list of numpy arrays, the averaged distributions.\n",
    "    \"\"\"\n",
    "    final_dist_list = []\n",
    "\n",
    "    for _ in tqdm.tqdm(range(samples)):\n",
    "        angles = random_angle_deviation([np.pi/3, np.pi/3], [deviation, deviation], steps)\n",
    "        tesselation_order = [[0, 1] for _ in range(steps)]\n",
    "        initial_state = uniform_initial_state(N, nodes=[N//2 + 1])\n",
    "        \n",
    "        states_ua_ut = running(G, T, steps, \n",
    "                               initial_state, \n",
    "                               angles=angles, \n",
    "                               tesselation_order=tesselation_order)\n",
    "\n",
    "        # final_dist = [states2std(x,domain) for x in states_ua_ut]\n",
    "        final_dist = states2std(states_ua_ut,domain)\n",
    "        final_dist_list.append(final_dist)\n",
    "\n",
    "    average_distributions = [np.mean(np.array(list(map(lambda x: x[i], final_dist_list))), axis=0) for i in range(len(final_dist_list[0]))]\n",
    "    \n",
    "    return average_distributions"
   ]
  },
  {
   "cell_type": "code",
   "execution_count": 5,
   "id": "f11d302e-76f0-4e52-a5f2-eb50aa7203d5",
   "metadata": {},
   "outputs": [
    {
     "name": "stdout",
     "output_type": "stream",
     "text": [
      "File exists!\n"
     ]
    },
    {
     "data": {
      "image/png": "[encoded data removed]",
      "text/plain": [
       "<Figure size 640x480 with 2 Axes>"
      ]
     },
     "metadata": {},
     "output_type": "display_data"
    }
   ],
   "source": [
    "# Example usage\n",
    "N = 100\n",
    "T = even_cycle_two_tesselation(N)\n",
    "G = nx.cycle_graph(N)\n",
    "samples = 100\n",
    "steps = 20\n",
    "deviation = 0\n",
    "\n",
    "fileName = f'Datasets/Jaime-simple_dynamics/sqw_Deviation-{deviation}-_N{N}_Steps{steps}_Samples{samples}.txt'\n",
    "\n",
    "if os.path.exists(fileName):\n",
    "    average_distributions = load_array_list_from_file(fileName)\n",
    "    print('File exists!')\n",
    "    \n",
    "else:\n",
    "    average_distributions = calculate_average_distributions(N, T, G, samples, steps,deviation)\n",
    "    save_array_list_to_file(average_distributions,fileName)\n",
    "    print('File Doesnt Exist!')\n",
    "\n",
    "# print(average_distributions)\n",
    "plot_distribution(average_distributions, N=N, steps=steps,x_ticks_step=10)"
   ]
  },
  {
   "cell_type": "code",
   "execution_count": 6,
   "id": "d4cb6b31-9f68-41b1-b264-11d9ab95e463",
   "metadata": {},
   "outputs": [
    {
     "name": "stdout",
     "output_type": "stream",
     "text": [
      "File exists!\n",
      "21\n"
     ]
    },
    {
     "data": {
      "text/plain": [
       "[<matplotlib.lines.Line2D at 0x173a0be2060>]"
      ]
     },
     "execution_count": 6,
     "metadata": {},
     "output_type": "execute_result"
    },
    {
     "data": {
      "image/png": "[encoded data removed]",
      "text/plain": [
       "<Figure size 640x480 with 1 Axes>"
      ]
     },
     "metadata": {},
     "output_type": "display_data"
    }
   ],
   "source": [
    "# Example usage\n",
    "N = 100\n",
    "T = even_cycle_two_tesselation(N)\n",
    "G = nx.cycle_graph(N)\n",
    "samples = 100\n",
    "steps = 20\n",
    "deviation = 0\n",
    "\n",
    "fileName = f'Datasets/Jaime-simple_dynamics/sqwStdev_Deviation-{deviation}-_N{N}_Steps{steps}_Samples{samples}.txt'\n",
    "\n",
    "if os.path.exists(fileName):\n",
    "    average_stdev = load_array_list_from_file(fileName)\n",
    "    print('File exists!')\n",
    "    \n",
    "else:\n",
    "    average_stdev = calculate_average_stdev(N, T, G, samples, steps,deviation,range(0, N))\n",
    "    save_array_list_to_file(average_stdev,fileName)\n",
    "    print('File Doesnt Exist!')\n",
    "\n",
    "# print(average_distributions)\n",
    "# plot_distribution(average_stdev, N=N, steps=steps,x_ticks_step=10)\n",
    "print(len(average_stdev))\n",
    "plt.plot(average_stdev)"
   ]
  },
  {
   "cell_type": "code",
   "execution_count": 12,
   "id": "c39e2554-e28d-446e-a37f-dec14eca532a",
   "metadata": {},
   "outputs": [],
   "source": [
    "# x = np.arange(-N//2, N//2, 1)\n",
    "# y = np.arange(0, steps, 1)\n",
    "# X, Y = np.meshgrid(x, y)\n",
    "\n",
    "# fig, ax = plt.subplots()\n",
    "\n",
    "# im = ax.imshow(average_distributions,interpolation='None',cmap='viridis', extent = [-N//2, N//2, steps, 0])\n",
    "\n",
    "# ratio = 0.5\n",
    "# x_left, x_right = ax.get_xlim()\n",
    "# y_low, y_high = ax.get_ylim()\n",
    "# ax.set_aspect(abs((x_right-x_left)/(y_low-y_high))*ratio)\n",
    "# ax.set_xlabel('x',fontsize = 14)\n",
    "# ax.set_ylabel('steps',fontsize = 14)\n",
    "# ax.tick_params(axis='both', which='major', labelsize=11)\n",
    "\n",
    "# ax.set_xlim([-40,40])\n",
    "\n",
    "# ax.set_yticks(np.arange(0, steps+1, 2))\n",
    "# ax.set_xticks(np.arange(-40, 41, 10))\n",
    "\n",
    "# cbar = fig.colorbar(im,fraction=0.035, pad=0.04)\n",
    "# cbar.set_label('Probability', rotation=270,labelpad=20,fontsize = 14)\n",
    "\n",
    "\n",
    "# # plt.savefig(f'images/sqw_N{N}_t{steps}_thetapi3-pi3_init0.png',bbox_inches='tight',dpi=300)\n",
    "# plt.show()"
   ]
  },
  {
   "cell_type": "code",
   "execution_count": 8,
   "id": "00d4aca2-1c0c-4455-a37e-d9ec85e7c313",
   "metadata": {},
   "outputs": [],
   "source": [
    "# states2std(states_ra_ut, range(0, N))"
   ]
  },
  {
   "cell_type": "markdown",
   "id": "18c902e5-706c-43b0-a0c1-93bca8848b95",
   "metadata": {},
   "source": [
    "###### 2.2 – Random Angles"
   ]
  },
  {
   "cell_type": "code",
   "execution_count": 24,
   "id": "beffbd1c-7f26-4e0f-a1de-e98015d8fb98",
   "metadata": {},
   "outputs": [
    {
     "name": "stderr",
     "output_type": "stream",
     "text": [
      "100%|██████████| 50/50 [00:01<00:00, 40.16it/s]\n"
     ]
    },
    {
     "name": "stdout",
     "output_type": "stream",
     "text": [
      "File Doesnt Exist!\n"
     ]
    },
    {
     "data": {
      "image/png": "[encoded data removed]",
      "text/plain": [
       "<Figure size 640x480 with 2 Axes>"
      ]
     },
     "metadata": {},
     "output_type": "display_data"
    }
   ],
   "source": [
    "# Example usage\n",
    "N = 100\n",
    "T = even_cycle_two_tesselation(N)\n",
    "G = nx.cycle_graph(N)\n",
    "samples = 50\n",
    "steps = 20\n",
    "deviation = 0.6\n",
    "\n",
    "fileName = f'Datasets/Jaime-simple_dynamics/sqw_Deviation-{deviation}-_N{N}_Steps{steps}_Samples{samples}.txt'\n",
    "\n",
    "if os.path.exists(fileName):\n",
    "    average_distributions = load_array_list_from_file(fileName)\n",
    "    print('File exists!')\n",
    "    \n",
    "else:\n",
    "    average_distributions = calculate_average_distributions(N, T, G, samples, steps,deviation)\n",
    "    save_array_list_to_file(average_distributions,fileName)\n",
    "    print('File Doesnt Exist!')\n",
    "\n",
    "# print(average_distributions)\n",
    "plot_distribution(average_distributions, N=N, steps=steps,x_ticks_step=10)"
   ]
  },
  {
   "cell_type": "code",
   "execution_count": 8,
   "id": "6bf7395b-3099-458b-8558-778b3aed3f16",
   "metadata": {},
   "outputs": [
    {
     "name": "stdout",
     "output_type": "stream",
     "text": [
      "File exists!\n",
      "[array([0.]), array([1.0492668]), array([2.07690441]), array([2.94123371]), array([3.95805133]), array([5.02676237]), array([5.9890621]), array([6.96440358]), array([7.96917009]), array([8.85995369]), array([9.72449055]), array([10.59547852]), array([11.4209679]), array([12.21134247]), array([13.00229699]), array([13.74699203]), array([14.51667919]), array([15.24960268]), array([15.96156685]), array([16.7057464]), array([17.37013765])]\n"
     ]
    }
   ],
   "source": [
    "-"
   ]
  },
  {
   "cell_type": "code",
   "execution_count": 23,
   "id": "1576c9ea-ef3c-44ef-876f-b9b0c62eb6aa",
   "metadata": {},
   "outputs": [],
   "source": [
    "# x = np.arange(-N//2, N//2, 1)\n",
    "# y = np.arange(0, steps, 1)\n",
    "# X, Y = np.meshgrid(x, y)\n",
    "\n",
    "# fig, ax = plt.subplots()\n",
    "\n",
    "# im = ax.imshow(final_dist,interpolation='None',cmap='viridis', extent = [-N//2, N//2, steps, 0])\n",
    "\n",
    "# ratio = 0.5\n",
    "# x_left, x_right = ax.get_xlim()\n",
    "# y_low, y_high = ax.get_ylim()\n",
    "# ax.set_aspect(abs((x_right-x_left)/(y_low-y_high))*ratio)\n",
    "# ax.set_xlabel('x',fontsize = 14)\n",
    "# ax.set_ylabel('steps',fontsize = 14)\n",
    "# ax.tick_params(axis='both', which='major', labelsize=11)\n",
    "\n",
    "# ax.set_xlim([-25,25])\n",
    "\n",
    "# ax.set_yticks(np.arange(0, steps+1, 2))\n",
    "# ax.set_xticks(np.arange(-20, 21, 5))\n",
    "\n",
    "# cbar = fig.colorbar(im,fraction=0.035, pad=0.04)\n",
    "# cbar.set_label('Probability', rotation=270,labelpad=20,fontsize = 14)\n",
    "\n",
    "\n",
    "# # plt.savefig(f'images/sqw_N{N}_t{steps}_thetapi3-pi3_init0.png',bbox_inches='tight',dpi=300)\n",
    "# plt.show()"
   ]
  },
  {
   "cell_type": "code",
   "execution_count": null,
   "id": "d3baef11-9cf9-4489-bcf1-3e39e27542e7",
   "metadata": {},
   "outputs": [],
   "source": []
  },
  {
   "cell_type": "code",
   "execution_count": null,
   "id": "e0c14a12-310e-462c-b3d4-af8c1e67d9a8",
   "metadata": {},
   "outputs": [],
   "source": []
  },
  {
   "cell_type": "code",
   "execution_count": null,
   "id": "5e1f6ad1-56e1-4fca-bfe7-243a79ffdf2d",
   "metadata": {},
   "outputs": [],
   "source": []
  },
  {
   "cell_type": "code",
   "execution_count": null,
   "id": "7ac23d7d-2a87-4337-9fb3-5cd8d5c9f994",
   "metadata": {},
   "outputs": [],
   "source": []
  }
 ],
 "metadata": {
  "kernelspec": {
   "display_name": "Python 3 (ipykernel)",
   "language": "python",
   "name": "python3"
  },
  "language_info": {
   "codemirror_mode": {
    "name": "ipython",
    "version": 3
   },
   "file_extension": ".py",
   "mimetype": "text/x-python",
   "name": "python",
   "nbconvert_exporter": "python",
   "pygments_lexer": "ipython3",
   "version": "3.12.1"
  }
 },
 "nbformat": 4,
 "nbformat_minor": 5
}
